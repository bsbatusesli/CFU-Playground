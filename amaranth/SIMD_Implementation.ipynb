{
  "nbformat": 4,
  "nbformat_minor": 0,
  "metadata": {
    "colab": {
      "provenance": [],
      "authorship_tag": "ABX9TyOE4/8mdDoOnuHLB/B+amVX",
      "include_colab_link": true
    },
    "kernelspec": {
      "name": "python3",
      "display_name": "Python 3"
    },
    "language_info": {
      "name": "python"
    }
  },
  "cells": [
    {
      "cell_type": "markdown",
      "metadata": {
        "id": "view-in-github",
        "colab_type": "text"
      },
      "source": [
        "<a href=\"https://colab.research.google.com/github/bsbatusesli/CFU-Playground/blob/main/amaranth/SIMD_Implementation.ipynb\" target=\"_parent\"><img src=\"https://colab.research.google.com/assets/colab-badge.svg\" alt=\"Open In Colab\"/></a>"
      ]
    },
    {
      "cell_type": "code",
      "execution_count": null,
      "metadata": {
        "colab": {
          "base_uri": "https://localhost:8080/"
        },
        "id": "CdPtf3fZZ5iA",
        "outputId": "8f35563e-8487-4917-97af-a2e64ddfcc14"
      },
      "outputs": [
        {
          "output_type": "stream",
          "name": "stdout",
          "text": [
            "Looking in indexes: https://pypi.org/simple, https://us-python.pkg.dev/colab-wheels/public/simple/\n",
            "Requirement already satisfied: amaranth[builtin-yosys] in /usr/local/lib/python3.9/dist-packages (0.3)\n",
            "Requirement already satisfied: Jinja2~=2.11 in /usr/local/lib/python3.9/dist-packages (from amaranth[builtin-yosys]) (2.11.3)\n",
            "Requirement already satisfied: pyvcd~=0.2.2 in /usr/local/lib/python3.9/dist-packages (from amaranth[builtin-yosys]) (0.2.4)\n",
            "Requirement already satisfied: amaranth-yosys>=0.10.* in /usr/local/lib/python3.9/dist-packages (from amaranth[builtin-yosys]) (0.25.0.0.post70)\n",
            "Requirement already satisfied: wasmtime<8,>=1 in /usr/local/lib/python3.9/dist-packages (from amaranth-yosys>=0.10.*->amaranth[builtin-yosys]) (7.0.0)\n",
            "Requirement already satisfied: MarkupSafe>=0.23 in /usr/local/lib/python3.9/dist-packages (from Jinja2~=2.11->amaranth[builtin-yosys]) (2.1.2)\n",
            "fatal: destination path 'CFU-Playground' already exists and is not an empty directory.\n"
          ]
        }
      ],
      "source": [
        "# Install Amaranth \n",
        "!pip install --upgrade 'amaranth[builtin-yosys]'\n",
        "\n",
        "# CFU-Playground library\n",
        "!git clone https://github.com/google/CFU-Playground.git\n",
        "import sys\n",
        "sys.path.append('CFU-Playground/python')\n",
        "\n",
        "# Imports\n",
        "from amaranth import *\n",
        "from amaranth.back import verilog\n",
        "from amaranth.sim import Delay, Simulator, Tick\n",
        "from amaranth_cfu import TestBase, SimpleElaboratable, pack_vals, simple_cfu, InstructionBase, CfuTestBase\n",
        "import re, unittest\n",
        "\n",
        "# Utility to convert Amaranth to verilog \n",
        "def convert_elaboratable(elaboratable):\n",
        "  v = verilog.convert(elaboratable, name='Top', ports=elaboratable.ports)\n",
        "  v = re.sub(r'\\(\\*.*\\*\\)', '', v)\n",
        "  return re.sub(r'^ *\\n', '\\n', v, flags=re.MULTILINE)\n",
        "\n",
        "def runTests(klazz):\n",
        "  loader = unittest.TestLoader()\n",
        "  suite = unittest.TestSuite()\n",
        "  suite.addTests(loader.loadTestsFromTestCase(klazz))\n",
        "  runner = unittest.TextTestRunner()\n",
        "  runner.run(suite)"
      ]
    },
    {
      "cell_type": "code",
      "source": [
        "#function for codebook storing. \n",
        "#Codebook has 4 clusters => 2bit codewords\n",
        "\n",
        "\n",
        "class SIMD8_StoreCodebook(SimpleElaboratable):\n",
        "  def __init__(self):\n",
        "    # 2 x 32 bit input lines\n",
        "    self.in0 = Signal(32)\n",
        "    self.in1 = Signal(32)\n",
        "    self.enable = Signal()\n",
        "    self.clear = Signal()\n",
        "    self.clus0 = Signal(signed(8))\n",
        "    self.clus1 = Signal(signed(8))\n",
        "    self.clus2 = Signal(signed(8))\n",
        "    self.clus3 = Signal(signed(8))\n",
        "\n",
        "  def elab(self,m):\n",
        "    with m.If(self.enable):\n",
        "        m.d.comb +=[self.clus0.eq(self.in1[0:8].as_signed()),\n",
        "                    self.clus1.eq(self.in1[8:16].as_signed()),\n",
        "                    self.clus2.eq(self.in1[16:24].as_signed()),\n",
        "                    self.clus3.eq(self.in1[24:31].as_signed()),\n",
        "                 ]\n",
        "    with m.If(~self.enable):\n",
        "      m.d.comb += [ self.clus0.eq(self.clus0),\n",
        "                    self.clus1.eq(self.clus1),\n",
        "                    self.clus2.eq(self.clus2),\n",
        "                    self.clus3.eq(self.clus3),\n",
        "                  ]\n",
        "\n",
        "    with m.If(self.clear):\n",
        "      m.d.comb += [ self.clus0.eq(0),\n",
        "                    self.clus1.eq(0),\n",
        "                    self.clus2.eq(0),\n",
        "                    self.clus3.eq(0),\n",
        "                  ]    \n",
        "\n",
        "class SIMD8_StoreCodebookTest(TestBase):\n",
        "  def create_dut(self):\n",
        "    return SIMD8_StoreCodebook()\n",
        "\n",
        "  def pack(*values, bits=8):\n",
        "      mask = (1 << bits) - 1\n",
        "      result = 0\n",
        "      for i, v in enumerate(values):\n",
        "        if v < 0:\n",
        "          v = mask + v + 1\n",
        "        result += (v & mask) << (i * bits)\n",
        "      return result\n",
        "      \n",
        "  def test(self):\n",
        "    \n",
        "    \n",
        "    TEST_CASE = [\n",
        "        # (enable, clear, in1, (clus0, clus1, clus2, clus3))\n",
        "        (1, 0, pack(64, -6, 10 ,-22),(64, -6, 10 ,-22)), # store the code book (0x03FA0AEA)\n",
        "        (0, 0, pack(54, -44, 3, -12),(64, -6, 10 ,-22)), # output shouldnt change since enable == 0\n",
        "\n",
        "        (1, 0, pack(127, -127, 0, -17), (127, -127, 0, -17)), # store new code book corner cases\n",
        "        (0, 1, pack(54, -44, 3, -12),(0, 0, 0 , 0)), #clear the store book\n",
        "    ]\n",
        "    def process():\n",
        "      for (en, rst, b, exp_clusters) in TEST_CASE:\n",
        "        yield self.dut.enable.eq(en)\n",
        "        yield self.dut.clear.eq(rst)\n",
        "        yield self.dut.in1.eq(b)\n",
        "        yield Delay(0.1)\n",
        "\n",
        "        self.assertEqual(exp_clusters, ((yield self.dut.clus0), (yield self.dut.clus1), (yield self.dut.clus2), (yield self.dut.clus3)))\n",
        "        yield\n",
        "    self.run_sim(process)\n",
        "\n",
        "runTests(SIMD8_StoreCodebookTest)"
      ],
      "metadata": {
        "id": "KbMe9V1kjsSZ",
        "colab": {
          "base_uri": "https://localhost:8080/"
        },
        "outputId": "b3313561-f518-4f78-d163-280659fd7b06"
      },
      "execution_count": 180,
      "outputs": [
        {
          "output_type": "stream",
          "name": "stderr",
          "text": [
            ".\n",
            "----------------------------------------------------------------------\n",
            "Ran 1 test in 0.008s\n",
            "\n",
            "OK\n"
          ]
        }
      ]
    },
    {
      "cell_type": "code",
      "source": [
        "class SIMD8_PushWeight(SimpleElaboratable):\n",
        "  def __init__(self):\n",
        "    self.in0 = Signal(32)\n",
        "    self.in1 = Signal(32)\n",
        "    self.enable = Signal()\n"
      ],
      "metadata": {
        "id": "OUQ1cQoE9WVY"
      },
      "execution_count": null,
      "outputs": []
    },
    {
      "cell_type": "code",
      "source": [
        "def pack(*values, bits=8):\n",
        "  mask = (1 << bits) - 1\n",
        "  result = 0\n",
        "  for i, v in enumerate(values):\n",
        "    if v < 0:\n",
        "      v = mask + v + 1\n",
        "    result += (v & mask) << (i * bits)\n",
        "  return result\n",
        "\n",
        "hex(pack(-100))\n"
      ],
      "metadata": {
        "colab": {
          "base_uri": "https://localhost:8080/",
          "height": 36
        },
        "id": "MoD3ueQybCx9",
        "outputId": "60247ec8-aba9-48c2-bb9b-cb34aab3f39a"
      },
      "execution_count": 156,
      "outputs": [
        {
          "output_type": "execute_result",
          "data": {
            "text/plain": [
              "'0x9c'"
            ],
            "application/vnd.google.colaboratory.intrinsic+json": {
              "type": "string"
            }
          },
          "metadata": {},
          "execution_count": 156
        }
      ]
    },
    {
      "cell_type": "code",
      "source": [],
      "metadata": {
        "id": "YfvuG6-6mJEM"
      },
      "execution_count": null,
      "outputs": []
    }
  ]
}