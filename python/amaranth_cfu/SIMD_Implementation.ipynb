{
  "nbformat": 4,
  "nbformat_minor": 0,
  "metadata": {
    "colab": {
      "provenance": [],
      "authorship_tag": "ABX9TyNdzd9zjJDf/xPKGocAlewJ",
      "include_colab_link": true
    },
    "kernelspec": {
      "name": "python3",
      "display_name": "Python 3"
    },
    "language_info": {
      "name": "python"
    }
  },
  "cells": [
    {
      "cell_type": "markdown",
      "metadata": {
        "id": "view-in-github",
        "colab_type": "text"
      },
      "source": [
        "<a href=\"https://colab.research.google.com/github/bsbatusesli/CFU-Playground/blob/main/python/amaranth_cfu/SIMD_Implementation.ipynb\" target=\"_parent\"><img src=\"https://colab.research.google.com/assets/colab-badge.svg\" alt=\"Open In Colab\"/></a>"
      ]
    },
    {
      "cell_type": "code",
      "execution_count": 5,
      "metadata": {
        "colab": {
          "base_uri": "https://localhost:8080/"
        },
        "id": "CdPtf3fZZ5iA",
        "outputId": "dbc7e84d-270a-4009-ec4c-fa84c974ca4d"
      },
      "outputs": [
        {
          "output_type": "stream",
          "name": "stdout",
          "text": [
            "Looking in indexes: https://pypi.org/simple, https://us-python.pkg.dev/colab-wheels/public/simple/\n",
            "Requirement already satisfied: amaranth[builtin-yosys] in /usr/local/lib/python3.9/dist-packages (0.3)\n",
            "Requirement already satisfied: Jinja2~=2.11 in /usr/local/lib/python3.9/dist-packages (from amaranth[builtin-yosys]) (2.11.3)\n",
            "Requirement already satisfied: pyvcd~=0.2.2 in /usr/local/lib/python3.9/dist-packages (from amaranth[builtin-yosys]) (0.2.4)\n",
            "Requirement already satisfied: amaranth-yosys>=0.10.* in /usr/local/lib/python3.9/dist-packages (from amaranth[builtin-yosys]) (0.25.0.0.post71)\n",
            "Requirement already satisfied: wasmtime<9,>=1 in /usr/local/lib/python3.9/dist-packages (from amaranth-yosys>=0.10.*->amaranth[builtin-yosys]) (8.0.0)\n",
            "Requirement already satisfied: MarkupSafe>=0.23 in /usr/local/lib/python3.9/dist-packages (from Jinja2~=2.11->amaranth[builtin-yosys]) (2.1.2)\n",
            "fatal: destination path 'CFU-Playground' already exists and is not an empty directory.\n"
          ]
        }
      ],
      "source": [
        "# Install Amaranth \n",
        "!pip install --upgrade 'amaranth[builtin-yosys]'\n",
        "\n",
        "# CFU-Playground library\n",
        "!git clone https://github.com/google/CFU-Playground.git\n",
        "import sys\n",
        "sys.path.append('CFU-Playground/python')\n",
        "\n",
        "# Imports\n",
        "from amaranth import *\n",
        "from amaranth.back import verilog\n",
        "from amaranth.sim import Delay, Simulator, Tick\n",
        "from amaranth_cfu import TestBase, SimpleElaboratable, pack_vals, simple_cfu, InstructionBase, CfuTestBase\n",
        "import re, unittest\n",
        "\n",
        "# Utility to convert Amaranth to verilog \n",
        "def convert_elaboratable(elaboratable):\n",
        "  v = verilog.convert(elaboratable, name='Top', ports=elaboratable.ports)\n",
        "  v = re.sub(r'\\(\\*.*\\*\\)', '', v)\n",
        "  return re.sub(r'^ *\\n', '\\n', v, flags=re.MULTILINE)\n",
        "\n",
        "def runTests(klazz):\n",
        "  loader = unittest.TestLoader()\n",
        "  suite = unittest.TestSuite()\n",
        "  suite.addTests(loader.loadTestsFromTestCase(klazz))\n",
        "  runner = unittest.TextTestRunner()\n",
        "  runner.run(suite)"
      ]
    },
    {
      "cell_type": "code",
      "source": [
        "#function for codebook storing. \n",
        "#Codebook has 4 clusters => 2bit codewords\n",
        "\n",
        "\n",
        "class SIMD8_StoreCodebook(SimpleElaboratable):\n",
        "  def __init__(self):\n",
        "    # 2 x 32 bit input lines\n",
        "    self.in0 = Signal(32)\n",
        "    self.in1 = Signal(32)\n",
        "    self.enable = Signal()\n",
        "    self.clear = Signal()\n",
        "    self.clus0 = Signal(signed(8))\n",
        "    self.clus1 = Signal(signed(8))\n",
        "    self.clus2 = Signal(signed(8))\n",
        "    self.clus3 = Signal(signed(8))\n",
        "\n",
        "  def elab(self,m):\n",
        "    with m.If(self.enable):\n",
        "        m.d.comb +=[self.clus0.eq(self.in1[0:8].as_signed()),\n",
        "                    self.clus1.eq(self.in1[8:16].as_signed()),\n",
        "                    self.clus2.eq(self.in1[16:24].as_signed()),\n",
        "                    self.clus3.eq(self.in1[24:31].as_signed()),\n",
        "                 ]\n",
        "    with m.If(~self.enable):\n",
        "      m.d.comb += [ self.clus0.eq(self.clus0),\n",
        "                    self.clus1.eq(self.clus1),\n",
        "                    self.clus2.eq(self.clus2),\n",
        "                    self.clus3.eq(self.clus3),\n",
        "                  ]\n",
        "\n",
        "    with m.If(self.clear):\n",
        "      m.d.comb += [ self.clus0.eq(0),\n",
        "                    self.clus1.eq(0),\n",
        "                    self.clus2.eq(0),\n",
        "                    self.clus3.eq(0),\n",
        "                  ]    \n",
        "\n",
        "class SIMD8_StoreCodebookTest(TestBase):\n",
        "  def create_dut(self):\n",
        "    return SIMD8_StoreCodebook()\n",
        "      \n",
        "  def test(self):\n",
        "    \n",
        "    def pack(*values, bits=8):\n",
        "      mask = (1 << bits) - 1\n",
        "      result = 0\n",
        "      for i, v in enumerate(values):\n",
        "        if v < 0:\n",
        "          v = mask + v + 1\n",
        "        result += (v & mask) << (i * bits)\n",
        "      return result\n",
        "    \n",
        "    \n",
        "    TEST_CASE = [\n",
        "        # (enable, clear, in1, (clus0, clus1, clus2, clus3))\n",
        "        (1, 0, pack(64, -6, 10 ,-22),(64, -6, 10 ,-22)), # store the code book (0x03FA0AEA)\n",
        "        (0, 0, pack(54, -44, 3, -12),(64, -6, 10 ,-22)), # output shouldnt change since enable == 0\n",
        "\n",
        "        (1, 0, pack(127, -127, 0, -17), (127, -127, 0, -17)), # store new code book corner cases\n",
        "        (0, 1, pack(54, -44, 3, -12),(0, 0, 0 , 0)), #clear the store book\n",
        "    ]\n",
        "    def process():\n",
        "      for (en, rst, b, exp_clusters) in TEST_CASE:\n",
        "        yield self.dut.enable.eq(en)\n",
        "        yield self.dut.clear.eq(rst)\n",
        "        yield self.dut.in1.eq(b)\n",
        "        yield Delay(0.1)\n",
        "\n",
        "        self.assertEqual(exp_clusters, ((yield self.dut.clus0), (yield self.dut.clus1), (yield self.dut.clus2), (yield self.dut.clus3)))\n",
        "        yield\n",
        "    self.run_sim(process)\n",
        "\n",
        "runTests(SIMD8_StoreCodebookTest)"
      ],
      "metadata": {
        "id": "KbMe9V1kjsSZ",
        "colab": {
          "base_uri": "https://localhost:8080/"
        },
        "outputId": "d2df1d2f-32da-4ffd-a1c2-10a216a324aa"
      },
      "execution_count": 8,
      "outputs": [
        {
          "output_type": "stream",
          "name": "stderr",
          "text": [
            ".\n",
            "----------------------------------------------------------------------\n",
            "Ran 1 test in 0.012s\n",
            "\n",
            "OK\n"
          ]
        }
      ]
    },
    {
      "cell_type": "code",
      "source": [
        "class SIMD8_StoreWeights(SimpleElaboratable):\n",
        "  def __init__(self):\n",
        "\n",
        "    #INPUTS\n",
        "    self.in0 = Signal(32)\n",
        "    self.in1 = Signal(32)\n",
        "    self.store_en = Signal(1)\n",
        "    self.control = Signal(2)\n",
        "\n",
        "\n",
        "    #OUTPUTS\n",
        "    self.weight_codes = Signal(16)\n",
        "\n",
        "    #REG\n",
        "    self.weights = Signal(64)\n",
        "\n",
        "  def elab(self, m):\n",
        "    \n",
        "\n",
        "    with m.If(self.store_en):\n",
        "      m.d.comb += self.weights.eq(Cat([self.in0, self.in1]))\n",
        "    \n",
        "    with m.Else():\n",
        "      m.d.comb += self.weights.eq(self.weights)\n",
        "    \n",
        "    with m.Switch(self.control):\n",
        "      with m.Case(\"00\"):\n",
        "        m.d.comb += self.weight_codes.eq(self.weights[0:16])\n",
        "      with m.Case(\"01\"):\n",
        "        m.d.comb += self.weight_codes.eq(self.weights[16:32])\n",
        "      with m.Case(\"10\"):\n",
        "        m.d.comb += self.weight_codes.eq(self.weights[32:48])\n",
        "      with m.Case(\"11\"):\n",
        "        m.d.comb += self.weight_codes.eq(self.weights[48:64])\n",
        "\n",
        "class SIMD8_StoreWeightsTests(TestBase):\n",
        "  def create_dut(self):\n",
        "    return SIMD8_StoreWeights()\n",
        "      \n",
        "  def test(self):\n",
        "    \n",
        "    \n",
        "    TEST_CASE = [\n",
        "        # (store_en, control, in0, in1, expected_weight_codes)\n",
        "        (1,0b00, 0x01FFFA32, 0x12ED547A, 0xFA32), #load weights checks first slot\n",
        "        (0,0b01, 0x01FFFA32, 0x12ED547A, 0x01FF), #checks second slot\n",
        "        (0,0b10, 0x01FFFA32, 0x12ED547A, 0x547A), #checks third slot\n",
        "        (0,0b11, 0x01FFFA32, 0x12ED547A, 0x12ED), # checks forth slot \n",
        "        (0,0b11, 0xFFFFFFFF, 0xFFFFFFFF, 0x12ED), # checking enable function\n",
        "        \n",
        "    ]\n",
        "    def process():\n",
        "      for (store_en, control, in0, in1, expected_weight_codes) in TEST_CASE:\n",
        "        yield self.dut.store_en.eq(store_en)\n",
        "        yield self.dut.control.eq(control)\n",
        "        yield self.dut.in0.eq(in0)\n",
        "        yield self.dut.in1.eq(in1)\n",
        "        yield Delay(0.1)\n",
        "\n",
        "        self.assertEqual(expected_weight_codes, (yield self.dut.weight_codes))\n",
        "        yield\n",
        "    self.run_sim(process)\n",
        "\n",
        "runTests(SIMD8_StoreWeightsTests)\n",
        "      \n"
      ],
      "metadata": {
        "id": "OUQ1cQoE9WVY",
        "colab": {
          "base_uri": "https://localhost:8080/"
        },
        "outputId": "55a6ee24-3325-4bdd-8453-b36f4a50566b"
      },
      "execution_count": 46,
      "outputs": [
        {
          "output_type": "stream",
          "name": "stderr",
          "text": [
            ".\n",
            "----------------------------------------------------------------------\n",
            "Ran 1 test in 0.008s\n",
            "\n",
            "OK\n"
          ]
        }
      ]
    },
    {
      "cell_type": "code",
      "source": [],
      "metadata": {
        "colab": {
          "base_uri": "https://localhost:8080/",
          "height": 36
        },
        "id": "MoD3ueQybCx9",
        "outputId": "60247ec8-aba9-48c2-bb9b-cb34aab3f39a"
      },
      "execution_count": null,
      "outputs": [
        {
          "output_type": "execute_result",
          "data": {
            "text/plain": [
              "'0x9c'"
            ],
            "application/vnd.google.colaboratory.intrinsic+json": {
              "type": "string"
            }
          },
          "metadata": {},
          "execution_count": 156
        }
      ]
    },
    {
      "cell_type": "code",
      "source": [],
      "metadata": {
        "id": "YfvuG6-6mJEM"
      },
      "execution_count": null,
      "outputs": []
    }
  ]
}